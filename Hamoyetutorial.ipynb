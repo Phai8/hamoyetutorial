{
  "nbformat": 4,
  "nbformat_minor": 0,
  "metadata": {
    "colab": {
      "provenance": [],
      "authorship_tag": "ABX9TyP4DRxwdmNO5EyXUZ3YoWDT"
    },
    "kernelspec": {
      "name": "python3",
      "display_name": "Python 3"
    },
    "language_info": {
      "name": "python"
    }
  },
  "cells": [
    {
      "cell_type": "code",
      "execution_count": null,
      "metadata": {
        "id": "uaw0cX18_0s8"
      },
      "outputs": [],
      "source": [
        "import pandas as pd\n",
        "import numpy as np\n",
        "import seaborn as sns"
      ]
    },
    {
      "cell_type": "code",
      "source": [
        "url = ('https://query.data.world/s/wh6j7rxy2hvrn4ml75ci62apk5hgae')\n",
        "df = pd.read_csv(url)"
      ],
      "metadata": {
        "colab": {
          "base_uri": "https://localhost:8080/"
        },
        "id": "EpQxBunsPOcZ",
        "outputId": "433c7136-58d8-4fe0-c419-ec0d4c39d55c"
      },
      "execution_count": null,
      "outputs": [
        {
          "output_type": "stream",
          "name": "stderr",
          "text": [
            "/usr/local/lib/python3.8/dist-packages/IPython/core/interactiveshell.py:3326: DtypeWarning: Columns (6) have mixed types.Specify dtype option on import or set low_memory=False.\n",
            "  exec(code_obj, self.user_global_ns, self.user_ns)\n"
          ]
        }
      ]
    },
    {
      "cell_type": "code",
      "source": [
        "df.head(5)"
      ],
      "metadata": {
        "colab": {
          "base_uri": "https://localhost:8080/",
          "height": 267
        },
        "id": "ygscSb64Sh8O",
        "outputId": "4f30475d-51da-4e67-8155-b27dabba1b74"
      },
      "execution_count": null,
      "outputs": [
        {
          "output_type": "execute_result",
          "data": {
            "text/plain": [
              "   country  year  country_code        record      crop_land   grazing_land  \\\n",
              "0  Armenia  1992             1    AreaPerCap       0.140292       0.199546   \n",
              "1  Armenia  1992             1     AreaTotHA  483000.000000  687000.000000   \n",
              "2  Armenia  1992             1  BiocapPerCap       0.159804       0.135261   \n",
              "3  Armenia  1992             1  BiocapTotGHA  550176.242700  465677.972200   \n",
              "4  Armenia  1992             1  EFConsPerCap       0.387510       0.189462   \n",
              "\n",
              "   forest_land  fishing_ground  built_up_land    carbon         total QScore  \n",
              "0  0.097188051        0.036888       0.029320  0.000000  5.032351e-01     3A  \n",
              "1       334600   127000.000000  100943.000800  0.000000  1.732543e+06     3A  \n",
              "2  0.084003213        0.013742       0.033398  0.000000  4.262086e-01     3A  \n",
              "3  289207.1078    47311.551720  114982.279300  0.000000  1.467355e+06     3A  \n",
              "4     1.26E-06        0.004165       0.033398  1.114093  1.728629e+00     3A  "
            ],
            "text/html": [
              "\n",
              "  <div id=\"df-20d22b7c-b4f2-490e-90d8-4a263f52760b\">\n",
              "    <div class=\"colab-df-container\">\n",
              "      <div>\n",
              "<style scoped>\n",
              "    .dataframe tbody tr th:only-of-type {\n",
              "        vertical-align: middle;\n",
              "    }\n",
              "\n",
              "    .dataframe tbody tr th {\n",
              "        vertical-align: top;\n",
              "    }\n",
              "\n",
              "    .dataframe thead th {\n",
              "        text-align: right;\n",
              "    }\n",
              "</style>\n",
              "<table border=\"1\" class=\"dataframe\">\n",
              "  <thead>\n",
              "    <tr style=\"text-align: right;\">\n",
              "      <th></th>\n",
              "      <th>country</th>\n",
              "      <th>year</th>\n",
              "      <th>country_code</th>\n",
              "      <th>record</th>\n",
              "      <th>crop_land</th>\n",
              "      <th>grazing_land</th>\n",
              "      <th>forest_land</th>\n",
              "      <th>fishing_ground</th>\n",
              "      <th>built_up_land</th>\n",
              "      <th>carbon</th>\n",
              "      <th>total</th>\n",
              "      <th>QScore</th>\n",
              "    </tr>\n",
              "  </thead>\n",
              "  <tbody>\n",
              "    <tr>\n",
              "      <th>0</th>\n",
              "      <td>Armenia</td>\n",
              "      <td>1992</td>\n",
              "      <td>1</td>\n",
              "      <td>AreaPerCap</td>\n",
              "      <td>0.140292</td>\n",
              "      <td>0.199546</td>\n",
              "      <td>0.097188051</td>\n",
              "      <td>0.036888</td>\n",
              "      <td>0.029320</td>\n",
              "      <td>0.000000</td>\n",
              "      <td>5.032351e-01</td>\n",
              "      <td>3A</td>\n",
              "    </tr>\n",
              "    <tr>\n",
              "      <th>1</th>\n",
              "      <td>Armenia</td>\n",
              "      <td>1992</td>\n",
              "      <td>1</td>\n",
              "      <td>AreaTotHA</td>\n",
              "      <td>483000.000000</td>\n",
              "      <td>687000.000000</td>\n",
              "      <td>334600</td>\n",
              "      <td>127000.000000</td>\n",
              "      <td>100943.000800</td>\n",
              "      <td>0.000000</td>\n",
              "      <td>1.732543e+06</td>\n",
              "      <td>3A</td>\n",
              "    </tr>\n",
              "    <tr>\n",
              "      <th>2</th>\n",
              "      <td>Armenia</td>\n",
              "      <td>1992</td>\n",
              "      <td>1</td>\n",
              "      <td>BiocapPerCap</td>\n",
              "      <td>0.159804</td>\n",
              "      <td>0.135261</td>\n",
              "      <td>0.084003213</td>\n",
              "      <td>0.013742</td>\n",
              "      <td>0.033398</td>\n",
              "      <td>0.000000</td>\n",
              "      <td>4.262086e-01</td>\n",
              "      <td>3A</td>\n",
              "    </tr>\n",
              "    <tr>\n",
              "      <th>3</th>\n",
              "      <td>Armenia</td>\n",
              "      <td>1992</td>\n",
              "      <td>1</td>\n",
              "      <td>BiocapTotGHA</td>\n",
              "      <td>550176.242700</td>\n",
              "      <td>465677.972200</td>\n",
              "      <td>289207.1078</td>\n",
              "      <td>47311.551720</td>\n",
              "      <td>114982.279300</td>\n",
              "      <td>0.000000</td>\n",
              "      <td>1.467355e+06</td>\n",
              "      <td>3A</td>\n",
              "    </tr>\n",
              "    <tr>\n",
              "      <th>4</th>\n",
              "      <td>Armenia</td>\n",
              "      <td>1992</td>\n",
              "      <td>1</td>\n",
              "      <td>EFConsPerCap</td>\n",
              "      <td>0.387510</td>\n",
              "      <td>0.189462</td>\n",
              "      <td>1.26E-06</td>\n",
              "      <td>0.004165</td>\n",
              "      <td>0.033398</td>\n",
              "      <td>1.114093</td>\n",
              "      <td>1.728629e+00</td>\n",
              "      <td>3A</td>\n",
              "    </tr>\n",
              "  </tbody>\n",
              "</table>\n",
              "</div>\n",
              "      <button class=\"colab-df-convert\" onclick=\"convertToInteractive('df-20d22b7c-b4f2-490e-90d8-4a263f52760b')\"\n",
              "              title=\"Convert this dataframe to an interactive table.\"\n",
              "              style=\"display:none;\">\n",
              "        \n",
              "  <svg xmlns=\"http://www.w3.org/2000/svg\" height=\"24px\"viewBox=\"0 0 24 24\"\n",
              "       width=\"24px\">\n",
              "    <path d=\"M0 0h24v24H0V0z\" fill=\"none\"/>\n",
              "    <path d=\"M18.56 5.44l.94 2.06.94-2.06 2.06-.94-2.06-.94-.94-2.06-.94 2.06-2.06.94zm-11 1L8.5 8.5l.94-2.06 2.06-.94-2.06-.94L8.5 2.5l-.94 2.06-2.06.94zm10 10l.94 2.06.94-2.06 2.06-.94-2.06-.94-.94-2.06-.94 2.06-2.06.94z\"/><path d=\"M17.41 7.96l-1.37-1.37c-.4-.4-.92-.59-1.43-.59-.52 0-1.04.2-1.43.59L10.3 9.45l-7.72 7.72c-.78.78-.78 2.05 0 2.83L4 21.41c.39.39.9.59 1.41.59.51 0 1.02-.2 1.41-.59l7.78-7.78 2.81-2.81c.8-.78.8-2.07 0-2.86zM5.41 20L4 18.59l7.72-7.72 1.47 1.35L5.41 20z\"/>\n",
              "  </svg>\n",
              "      </button>\n",
              "      \n",
              "  <style>\n",
              "    .colab-df-container {\n",
              "      display:flex;\n",
              "      flex-wrap:wrap;\n",
              "      gap: 12px;\n",
              "    }\n",
              "\n",
              "    .colab-df-convert {\n",
              "      background-color: #E8F0FE;\n",
              "      border: none;\n",
              "      border-radius: 50%;\n",
              "      cursor: pointer;\n",
              "      display: none;\n",
              "      fill: #1967D2;\n",
              "      height: 32px;\n",
              "      padding: 0 0 0 0;\n",
              "      width: 32px;\n",
              "    }\n",
              "\n",
              "    .colab-df-convert:hover {\n",
              "      background-color: #E2EBFA;\n",
              "      box-shadow: 0px 1px 2px rgba(60, 64, 67, 0.3), 0px 1px 3px 1px rgba(60, 64, 67, 0.15);\n",
              "      fill: #174EA6;\n",
              "    }\n",
              "\n",
              "    [theme=dark] .colab-df-convert {\n",
              "      background-color: #3B4455;\n",
              "      fill: #D2E3FC;\n",
              "    }\n",
              "\n",
              "    [theme=dark] .colab-df-convert:hover {\n",
              "      background-color: #434B5C;\n",
              "      box-shadow: 0px 1px 3px 1px rgba(0, 0, 0, 0.15);\n",
              "      filter: drop-shadow(0px 1px 2px rgba(0, 0, 0, 0.3));\n",
              "      fill: #FFFFFF;\n",
              "    }\n",
              "  </style>\n",
              "\n",
              "      <script>\n",
              "        const buttonEl =\n",
              "          document.querySelector('#df-20d22b7c-b4f2-490e-90d8-4a263f52760b button.colab-df-convert');\n",
              "        buttonEl.style.display =\n",
              "          google.colab.kernel.accessAllowed ? 'block' : 'none';\n",
              "\n",
              "        async function convertToInteractive(key) {\n",
              "          const element = document.querySelector('#df-20d22b7c-b4f2-490e-90d8-4a263f52760b');\n",
              "          const dataTable =\n",
              "            await google.colab.kernel.invokeFunction('convertToInteractive',\n",
              "                                                     [key], {});\n",
              "          if (!dataTable) return;\n",
              "\n",
              "          const docLinkHtml = 'Like what you see? Visit the ' +\n",
              "            '<a target=\"_blank\" href=https://colab.research.google.com/notebooks/data_table.ipynb>data table notebook</a>'\n",
              "            + ' to learn more about interactive tables.';\n",
              "          element.innerHTML = '';\n",
              "          dataTable['output_type'] = 'display_data';\n",
              "          await google.colab.output.renderOutput(dataTable, element);\n",
              "          const docLink = document.createElement('div');\n",
              "          docLink.innerHTML = docLinkHtml;\n",
              "          element.appendChild(docLink);\n",
              "        }\n",
              "      </script>\n",
              "    </div>\n",
              "  </div>\n",
              "  "
            ]
          },
          "metadata": {},
          "execution_count": 3
        }
      ]
    },
    {
      "cell_type": "code",
      "source": [
        "df.shape"
      ],
      "metadata": {
        "colab": {
          "base_uri": "https://localhost:8080/"
        },
        "id": "uRCehv7lSv0k",
        "outputId": "c8c63af1-8634-487c-a766-fdb331d30f8c"
      },
      "execution_count": null,
      "outputs": [
        {
          "output_type": "execute_result",
          "data": {
            "text/plain": [
              "(72186, 12)"
            ]
          },
          "metadata": {},
          "execution_count": 4
        }
      ]
    },
    {
      "cell_type": "code",
      "source": [
        "df.columns"
      ],
      "metadata": {
        "colab": {
          "base_uri": "https://localhost:8080/"
        },
        "id": "WjtrAgBlS_Xk",
        "outputId": "b232bd8b-0cfb-4925-c5e2-3ca9fb5bea94"
      },
      "execution_count": null,
      "outputs": [
        {
          "output_type": "execute_result",
          "data": {
            "text/plain": [
              "Index(['country', 'year', 'country_code', 'record', 'crop_land',\n",
              "       'grazing_land', 'forest_land', 'fishing_ground', 'built_up_land',\n",
              "       'carbon', 'total', 'QScore'],\n",
              "      dtype='object')"
            ]
          },
          "metadata": {},
          "execution_count": 5
        }
      ]
    },
    {
      "cell_type": "code",
      "source": [
        "df.info()"
      ],
      "metadata": {
        "colab": {
          "base_uri": "https://localhost:8080/"
        },
        "id": "waRJ6h-oTDP5",
        "outputId": "f2d0d062-37e8-45d1-f33d-99568e426609"
      },
      "execution_count": null,
      "outputs": [
        {
          "output_type": "stream",
          "name": "stdout",
          "text": [
            "<class 'pandas.core.frame.DataFrame'>\n",
            "RangeIndex: 72186 entries, 0 to 72185\n",
            "Data columns (total 12 columns):\n",
            " #   Column          Non-Null Count  Dtype  \n",
            "---  ------          --------------  -----  \n",
            " 0   country         72186 non-null  object \n",
            " 1   year            72186 non-null  int64  \n",
            " 2   country_code    72186 non-null  int64  \n",
            " 3   record          72186 non-null  object \n",
            " 4   crop_land       51714 non-null  float64\n",
            " 5   grazing_land    51714 non-null  float64\n",
            " 6   forest_land     51714 non-null  object \n",
            " 7   fishing_ground  51713 non-null  float64\n",
            " 8   built_up_land   51713 non-null  float64\n",
            " 9   carbon          51713 non-null  float64\n",
            " 10  total           72177 non-null  float64\n",
            " 11  QScore          72185 non-null  object \n",
            "dtypes: float64(6), int64(2), object(4)\n",
            "memory usage: 6.6+ MB\n"
          ]
        }
      ]
    },
    {
      "cell_type": "markdown",
      "source": [
        "#To check Distribution of Target variable\n",
        "\n"
      ],
      "metadata": {
        "id": "8x_iBiLCU8JH"
      }
    },
    {
      "cell_type": "code",
      "source": [
        "df['QScore'].value_counts()"
      ],
      "metadata": {
        "colab": {
          "base_uri": "https://localhost:8080/"
        },
        "id": "lxjy5u0eUzO1",
        "outputId": "b789dec2-7d34-4879-e59e-e7f82da83707"
      },
      "execution_count": null,
      "outputs": [
        {
          "output_type": "execute_result",
          "data": {
            "text/plain": [
              "3A    51481\n",
              "2A    10576\n",
              "2B    10096\n",
              "1A       16\n",
              "1B       16\n",
              "Name: QScore, dtype: int64"
            ]
          },
          "metadata": {},
          "execution_count": 7
        }
      ]
    },
    {
      "cell_type": "code",
      "source": [
        "df.isnull().sum()"
      ],
      "metadata": {
        "colab": {
          "base_uri": "https://localhost:8080/"
        },
        "id": "VxoMLuE2VOSU",
        "outputId": "cc1a4e9d-d574-49e6-fdaf-de5e9ce9091c"
      },
      "execution_count": null,
      "outputs": [
        {
          "output_type": "execute_result",
          "data": {
            "text/plain": [
              "country               0\n",
              "year                  0\n",
              "country_code          0\n",
              "record                0\n",
              "crop_land         20472\n",
              "grazing_land      20472\n",
              "forest_land       20472\n",
              "fishing_ground    20473\n",
              "built_up_land     20473\n",
              "carbon            20473\n",
              "total                 9\n",
              "QScore                1\n",
              "dtype: int64"
            ]
          },
          "metadata": {},
          "execution_count": 8
        }
      ]
    },
    {
      "cell_type": "markdown",
      "source": [
        "#for simplicity, we will drop the rows with missing values."
      ],
      "metadata": {
        "id": "ejR8ThzNVelM"
      }
    },
    {
      "cell_type": "code",
      "source": [
        "#Drop missing values\n",
        "df = df.dropna()"
      ],
      "metadata": {
        "id": "QhUfFuYfVWXA"
      },
      "execution_count": null,
      "outputs": []
    },
    {
      "cell_type": "code",
      "source": [
        "df.isna().sum()"
      ],
      "metadata": {
        "colab": {
          "base_uri": "https://localhost:8080/"
        },
        "id": "LxqDyjy5VtaH",
        "outputId": "e0d3418b-f495-43b3-cdb3-866582d2156c"
      },
      "execution_count": null,
      "outputs": [
        {
          "output_type": "execute_result",
          "data": {
            "text/plain": [
              "country           0\n",
              "year              0\n",
              "country_code      0\n",
              "record            0\n",
              "crop_land         0\n",
              "grazing_land      0\n",
              "forest_land       0\n",
              "fishing_ground    0\n",
              "built_up_land     0\n",
              "carbon            0\n",
              "total             0\n",
              "QScore            0\n",
              "dtype: int64"
            ]
          },
          "metadata": {},
          "execution_count": 10
        }
      ]
    },
    {
      "cell_type": "markdown",
      "source": [
        "#An obvious change in our target variable after removing the missing values is that there are only three classes left "
      ],
      "metadata": {
        "id": "RfU3ruuRV84j"
      }
    },
    {
      "cell_type": "code",
      "source": [
        "df['QScore'].value_counts()"
      ],
      "metadata": {
        "colab": {
          "base_uri": "https://localhost:8080/"
        },
        "id": "mCiM3MOQXMTm",
        "outputId": "37b36455-4336-412a-8649-198b789ab50c"
      },
      "execution_count": null,
      "outputs": [
        {
          "output_type": "execute_result",
          "data": {
            "text/plain": [
              "3A    51473\n",
              "2A      224\n",
              "1A       16\n",
              "Name: QScore, dtype: int64"
            ]
          },
          "metadata": {},
          "execution_count": 10
        }
      ]
    },
    {
      "cell_type": "markdown",
      "source": [
        "#and from the distribution of the 3 classes, we can see that there is an obvious imbalance between the classes."
      ],
      "metadata": {
        "id": "nPC_wImlWV-T"
      }
    },
    {
      "cell_type": "markdown",
      "source": [
        "#There are methods that can be applied to handle this imbalance such as oversampling and undersampling."
      ],
      "metadata": {
        "id": "zfkgW4tXWaiv"
      }
    },
    {
      "cell_type": "markdown",
      "source": [
        "#Oversampling involves increasing the number of instances in the class with fewer instances while"
      ],
      "metadata": {
        "id": "9wQWlXcJWj59"
      }
    },
    {
      "cell_type": "markdown",
      "source": [
        "#undersampling involves reducing the data points in the class with more instances.\n"
      ],
      "metadata": {
        "id": "Og4gpEirWwfy"
      }
    },
    {
      "cell_type": "markdown",
      "source": [
        "#For now, we will convert this to a binary classification problem by combining class '2A' and '1A'."
      ],
      "metadata": {
        "id": "15bHVHJ9Wbsu"
      }
    },
    {
      "cell_type": "code",
      "source": [
        "df['QScore'] = df['QScore'].replace(['1A'], '2A') #oversampling as we are increasing 2A with 1A values"
      ],
      "metadata": {
        "id": "EX8UcuT_Vv8U"
      },
      "execution_count": null,
      "outputs": []
    },
    {
      "cell_type": "code",
      "source": [
        "df.QScore.value_counts()"
      ],
      "metadata": {
        "colab": {
          "base_uri": "https://localhost:8080/"
        },
        "id": "BPmyFXRBXtTc",
        "outputId": "1ff8b356-3ccb-4d75-9ef0-efb3d690c445"
      },
      "execution_count": null,
      "outputs": [
        {
          "output_type": "execute_result",
          "data": {
            "text/plain": [
              "3A    51473\n",
              "2A      240\n",
              "Name: QScore, dtype: int64"
            ]
          },
          "metadata": {},
          "execution_count": 12
        }
      ]
    },
    {
      "cell_type": "code",
      "source": [
        "df_2A = df[df.QScore=='2A']\n",
        "df_3A = df[df.QScore=='3A'].sample(350) #undersampling as we are reducing 3A to 350\n",
        "data_df = df_2A.append(df_3A) "
      ],
      "metadata": {
        "id": "HzgTXIZcXvOa"
      },
      "execution_count": null,
      "outputs": []
    },
    {
      "cell_type": "code",
      "source": [
        "data_df.head(5)"
      ],
      "metadata": {
        "colab": {
          "base_uri": "https://localhost:8080/",
          "height": 267
        },
        "id": "PgJjs-0jYSov",
        "outputId": "d3d515c7-e4cb-4aa6-ff5f-81b518cb5895"
      },
      "execution_count": null,
      "outputs": [
        {
          "output_type": "execute_result",
          "data": {
            "text/plain": [
              "      country  year  country_code        record     crop_land  grazing_land  \\\n",
              "1536  Algeria  2016             4    AreaPerCap  2.072989e-01  8.112722e-01   \n",
              "1537  Algeria  2016             4     AreaTotHA  8.417600e+06  3.294260e+07   \n",
              "1538  Algeria  2016             4  BiocapPerCap  2.021916e-01  2.636077e-01   \n",
              "1539  Algeria  2016             4  BiocapTotGHA  8.210214e+06  1.070408e+07   \n",
              "1540  Algeria  2016             4  EFConsPerCap  6.280528e-01  1.810332e-01   \n",
              "\n",
              "      forest_land  fishing_ground  built_up_land    carbon         total  \\\n",
              "1536  0.048357265        0.022585   2.998367e-02  0.000000  1.119497e+00   \n",
              "1537      1963600   917100.000000   1.217520e+06  0.000000  4.545842e+07   \n",
              "1538  0.027166736        0.007948   2.924496e-02  0.000000  5.301590e-01   \n",
              "1539  1103135.245   322736.916200   1.187524e+06  0.000000  2.152769e+07   \n",
              "1540  0.162800822        0.014729   2.924496e-02  1.391455  2.407316e+00   \n",
              "\n",
              "     QScore  \n",
              "1536     2A  \n",
              "1537     2A  \n",
              "1538     2A  \n",
              "1539     2A  \n",
              "1540     2A  "
            ],
            "text/html": [
              "\n",
              "  <div id=\"df-ddb1d9ce-38ca-46c1-9aa1-28869bc2d4ea\">\n",
              "    <div class=\"colab-df-container\">\n",
              "      <div>\n",
              "<style scoped>\n",
              "    .dataframe tbody tr th:only-of-type {\n",
              "        vertical-align: middle;\n",
              "    }\n",
              "\n",
              "    .dataframe tbody tr th {\n",
              "        vertical-align: top;\n",
              "    }\n",
              "\n",
              "    .dataframe thead th {\n",
              "        text-align: right;\n",
              "    }\n",
              "</style>\n",
              "<table border=\"1\" class=\"dataframe\">\n",
              "  <thead>\n",
              "    <tr style=\"text-align: right;\">\n",
              "      <th></th>\n",
              "      <th>country</th>\n",
              "      <th>year</th>\n",
              "      <th>country_code</th>\n",
              "      <th>record</th>\n",
              "      <th>crop_land</th>\n",
              "      <th>grazing_land</th>\n",
              "      <th>forest_land</th>\n",
              "      <th>fishing_ground</th>\n",
              "      <th>built_up_land</th>\n",
              "      <th>carbon</th>\n",
              "      <th>total</th>\n",
              "      <th>QScore</th>\n",
              "    </tr>\n",
              "  </thead>\n",
              "  <tbody>\n",
              "    <tr>\n",
              "      <th>1536</th>\n",
              "      <td>Algeria</td>\n",
              "      <td>2016</td>\n",
              "      <td>4</td>\n",
              "      <td>AreaPerCap</td>\n",
              "      <td>2.072989e-01</td>\n",
              "      <td>8.112722e-01</td>\n",
              "      <td>0.048357265</td>\n",
              "      <td>0.022585</td>\n",
              "      <td>2.998367e-02</td>\n",
              "      <td>0.000000</td>\n",
              "      <td>1.119497e+00</td>\n",
              "      <td>2A</td>\n",
              "    </tr>\n",
              "    <tr>\n",
              "      <th>1537</th>\n",
              "      <td>Algeria</td>\n",
              "      <td>2016</td>\n",
              "      <td>4</td>\n",
              "      <td>AreaTotHA</td>\n",
              "      <td>8.417600e+06</td>\n",
              "      <td>3.294260e+07</td>\n",
              "      <td>1963600</td>\n",
              "      <td>917100.000000</td>\n",
              "      <td>1.217520e+06</td>\n",
              "      <td>0.000000</td>\n",
              "      <td>4.545842e+07</td>\n",
              "      <td>2A</td>\n",
              "    </tr>\n",
              "    <tr>\n",
              "      <th>1538</th>\n",
              "      <td>Algeria</td>\n",
              "      <td>2016</td>\n",
              "      <td>4</td>\n",
              "      <td>BiocapPerCap</td>\n",
              "      <td>2.021916e-01</td>\n",
              "      <td>2.636077e-01</td>\n",
              "      <td>0.027166736</td>\n",
              "      <td>0.007948</td>\n",
              "      <td>2.924496e-02</td>\n",
              "      <td>0.000000</td>\n",
              "      <td>5.301590e-01</td>\n",
              "      <td>2A</td>\n",
              "    </tr>\n",
              "    <tr>\n",
              "      <th>1539</th>\n",
              "      <td>Algeria</td>\n",
              "      <td>2016</td>\n",
              "      <td>4</td>\n",
              "      <td>BiocapTotGHA</td>\n",
              "      <td>8.210214e+06</td>\n",
              "      <td>1.070408e+07</td>\n",
              "      <td>1103135.245</td>\n",
              "      <td>322736.916200</td>\n",
              "      <td>1.187524e+06</td>\n",
              "      <td>0.000000</td>\n",
              "      <td>2.152769e+07</td>\n",
              "      <td>2A</td>\n",
              "    </tr>\n",
              "    <tr>\n",
              "      <th>1540</th>\n",
              "      <td>Algeria</td>\n",
              "      <td>2016</td>\n",
              "      <td>4</td>\n",
              "      <td>EFConsPerCap</td>\n",
              "      <td>6.280528e-01</td>\n",
              "      <td>1.810332e-01</td>\n",
              "      <td>0.162800822</td>\n",
              "      <td>0.014729</td>\n",
              "      <td>2.924496e-02</td>\n",
              "      <td>1.391455</td>\n",
              "      <td>2.407316e+00</td>\n",
              "      <td>2A</td>\n",
              "    </tr>\n",
              "  </tbody>\n",
              "</table>\n",
              "</div>\n",
              "      <button class=\"colab-df-convert\" onclick=\"convertToInteractive('df-ddb1d9ce-38ca-46c1-9aa1-28869bc2d4ea')\"\n",
              "              title=\"Convert this dataframe to an interactive table.\"\n",
              "              style=\"display:none;\">\n",
              "        \n",
              "  <svg xmlns=\"http://www.w3.org/2000/svg\" height=\"24px\"viewBox=\"0 0 24 24\"\n",
              "       width=\"24px\">\n",
              "    <path d=\"M0 0h24v24H0V0z\" fill=\"none\"/>\n",
              "    <path d=\"M18.56 5.44l.94 2.06.94-2.06 2.06-.94-2.06-.94-.94-2.06-.94 2.06-2.06.94zm-11 1L8.5 8.5l.94-2.06 2.06-.94-2.06-.94L8.5 2.5l-.94 2.06-2.06.94zm10 10l.94 2.06.94-2.06 2.06-.94-2.06-.94-.94-2.06-.94 2.06-2.06.94z\"/><path d=\"M17.41 7.96l-1.37-1.37c-.4-.4-.92-.59-1.43-.59-.52 0-1.04.2-1.43.59L10.3 9.45l-7.72 7.72c-.78.78-.78 2.05 0 2.83L4 21.41c.39.39.9.59 1.41.59.51 0 1.02-.2 1.41-.59l7.78-7.78 2.81-2.81c.8-.78.8-2.07 0-2.86zM5.41 20L4 18.59l7.72-7.72 1.47 1.35L5.41 20z\"/>\n",
              "  </svg>\n",
              "      </button>\n",
              "      \n",
              "  <style>\n",
              "    .colab-df-container {\n",
              "      display:flex;\n",
              "      flex-wrap:wrap;\n",
              "      gap: 12px;\n",
              "    }\n",
              "\n",
              "    .colab-df-convert {\n",
              "      background-color: #E8F0FE;\n",
              "      border: none;\n",
              "      border-radius: 50%;\n",
              "      cursor: pointer;\n",
              "      display: none;\n",
              "      fill: #1967D2;\n",
              "      height: 32px;\n",
              "      padding: 0 0 0 0;\n",
              "      width: 32px;\n",
              "    }\n",
              "\n",
              "    .colab-df-convert:hover {\n",
              "      background-color: #E2EBFA;\n",
              "      box-shadow: 0px 1px 2px rgba(60, 64, 67, 0.3), 0px 1px 3px 1px rgba(60, 64, 67, 0.15);\n",
              "      fill: #174EA6;\n",
              "    }\n",
              "\n",
              "    [theme=dark] .colab-df-convert {\n",
              "      background-color: #3B4455;\n",
              "      fill: #D2E3FC;\n",
              "    }\n",
              "\n",
              "    [theme=dark] .colab-df-convert:hover {\n",
              "      background-color: #434B5C;\n",
              "      box-shadow: 0px 1px 3px 1px rgba(0, 0, 0, 0.15);\n",
              "      filter: drop-shadow(0px 1px 2px rgba(0, 0, 0, 0.3));\n",
              "      fill: #FFFFFF;\n",
              "    }\n",
              "  </style>\n",
              "\n",
              "      <script>\n",
              "        const buttonEl =\n",
              "          document.querySelector('#df-ddb1d9ce-38ca-46c1-9aa1-28869bc2d4ea button.colab-df-convert');\n",
              "        buttonEl.style.display =\n",
              "          google.colab.kernel.accessAllowed ? 'block' : 'none';\n",
              "\n",
              "        async function convertToInteractive(key) {\n",
              "          const element = document.querySelector('#df-ddb1d9ce-38ca-46c1-9aa1-28869bc2d4ea');\n",
              "          const dataTable =\n",
              "            await google.colab.kernel.invokeFunction('convertToInteractive',\n",
              "                                                     [key], {});\n",
              "          if (!dataTable) return;\n",
              "\n",
              "          const docLinkHtml = 'Like what you see? Visit the ' +\n",
              "            '<a target=\"_blank\" href=https://colab.research.google.com/notebooks/data_table.ipynb>data table notebook</a>'\n",
              "            + ' to learn more about interactive tables.';\n",
              "          element.innerHTML = '';\n",
              "          dataTable['output_type'] = 'display_data';\n",
              "          await google.colab.output.renderOutput(dataTable, element);\n",
              "          const docLink = document.createElement('div');\n",
              "          docLink.innerHTML = docLinkHtml;\n",
              "          element.appendChild(docLink);\n",
              "        }\n",
              "      </script>\n",
              "    </div>\n",
              "  </div>\n",
              "  "
            ]
          },
          "metadata": {},
          "execution_count": 14
        }
      ]
    },
    {
      "cell_type": "code",
      "source": [
        "data_df.tail(5)"
      ],
      "metadata": {
        "colab": {
          "base_uri": "https://localhost:8080/",
          "height": 267
        },
        "id": "dIhmRyxAYkfk",
        "outputId": "77535757-bcd1-4585-9d45-065a5a0ffe1b"
      },
      "execution_count": null,
      "outputs": [
        {
          "output_type": "execute_result",
          "data": {
            "text/plain": [
              "          country  year  country_code        record     crop_land  \\\n",
              "37779  Madagascar  1990           129  BiocapTotGHA  4.048800e+06   \n",
              "43024     Moldova  2007           146    AreaPerCap  5.146961e-01   \n",
              "25970      Guinea  2005            90  BiocapPerCap  3.704488e-01   \n",
              "13689       Congo  2014            46     AreaTotHA  6.270000e+05   \n",
              "14601        Cuba  2015            49     AreaTotHA  3.405987e+06   \n",
              "\n",
              "       grazing_land  forest_land  fishing_ground  built_up_land  carbon  \\\n",
              "37779  2.602160e+07  19395296.36    4.809580e+06  572399.229200     0.0   \n",
              "43024  8.719557e-02  0.090150536    2.325215e-02       0.029992     0.0   \n",
              "25970  8.973333e-01  0.795496622    3.634982e-01       0.038674     0.0   \n",
              "13689  1.000000e+07     22349400    8.349000e+05  158557.998700     0.0   \n",
              "14601  2.834313e+06      3200000    6.074800e+06  342278.015100     0.0   \n",
              "\n",
              "              total QScore  \n",
              "37779  5.484768e+07     3A  \n",
              "43024  7.452865e-01     3A  \n",
              "25970  2.465451e+00     3A  \n",
              "13689  3.396986e+07     3A  \n",
              "14601  1.585738e+07     3A  "
            ],
            "text/html": [
              "\n",
              "  <div id=\"df-24306afc-512d-4ad7-826d-48e21d11c9f1\">\n",
              "    <div class=\"colab-df-container\">\n",
              "      <div>\n",
              "<style scoped>\n",
              "    .dataframe tbody tr th:only-of-type {\n",
              "        vertical-align: middle;\n",
              "    }\n",
              "\n",
              "    .dataframe tbody tr th {\n",
              "        vertical-align: top;\n",
              "    }\n",
              "\n",
              "    .dataframe thead th {\n",
              "        text-align: right;\n",
              "    }\n",
              "</style>\n",
              "<table border=\"1\" class=\"dataframe\">\n",
              "  <thead>\n",
              "    <tr style=\"text-align: right;\">\n",
              "      <th></th>\n",
              "      <th>country</th>\n",
              "      <th>year</th>\n",
              "      <th>country_code</th>\n",
              "      <th>record</th>\n",
              "      <th>crop_land</th>\n",
              "      <th>grazing_land</th>\n",
              "      <th>forest_land</th>\n",
              "      <th>fishing_ground</th>\n",
              "      <th>built_up_land</th>\n",
              "      <th>carbon</th>\n",
              "      <th>total</th>\n",
              "      <th>QScore</th>\n",
              "    </tr>\n",
              "  </thead>\n",
              "  <tbody>\n",
              "    <tr>\n",
              "      <th>37779</th>\n",
              "      <td>Madagascar</td>\n",
              "      <td>1990</td>\n",
              "      <td>129</td>\n",
              "      <td>BiocapTotGHA</td>\n",
              "      <td>4.048800e+06</td>\n",
              "      <td>2.602160e+07</td>\n",
              "      <td>19395296.36</td>\n",
              "      <td>4.809580e+06</td>\n",
              "      <td>572399.229200</td>\n",
              "      <td>0.0</td>\n",
              "      <td>5.484768e+07</td>\n",
              "      <td>3A</td>\n",
              "    </tr>\n",
              "    <tr>\n",
              "      <th>43024</th>\n",
              "      <td>Moldova</td>\n",
              "      <td>2007</td>\n",
              "      <td>146</td>\n",
              "      <td>AreaPerCap</td>\n",
              "      <td>5.146961e-01</td>\n",
              "      <td>8.719557e-02</td>\n",
              "      <td>0.090150536</td>\n",
              "      <td>2.325215e-02</td>\n",
              "      <td>0.029992</td>\n",
              "      <td>0.0</td>\n",
              "      <td>7.452865e-01</td>\n",
              "      <td>3A</td>\n",
              "    </tr>\n",
              "    <tr>\n",
              "      <th>25970</th>\n",
              "      <td>Guinea</td>\n",
              "      <td>2005</td>\n",
              "      <td>90</td>\n",
              "      <td>BiocapPerCap</td>\n",
              "      <td>3.704488e-01</td>\n",
              "      <td>8.973333e-01</td>\n",
              "      <td>0.795496622</td>\n",
              "      <td>3.634982e-01</td>\n",
              "      <td>0.038674</td>\n",
              "      <td>0.0</td>\n",
              "      <td>2.465451e+00</td>\n",
              "      <td>3A</td>\n",
              "    </tr>\n",
              "    <tr>\n",
              "      <th>13689</th>\n",
              "      <td>Congo</td>\n",
              "      <td>2014</td>\n",
              "      <td>46</td>\n",
              "      <td>AreaTotHA</td>\n",
              "      <td>6.270000e+05</td>\n",
              "      <td>1.000000e+07</td>\n",
              "      <td>22349400</td>\n",
              "      <td>8.349000e+05</td>\n",
              "      <td>158557.998700</td>\n",
              "      <td>0.0</td>\n",
              "      <td>3.396986e+07</td>\n",
              "      <td>3A</td>\n",
              "    </tr>\n",
              "    <tr>\n",
              "      <th>14601</th>\n",
              "      <td>Cuba</td>\n",
              "      <td>2015</td>\n",
              "      <td>49</td>\n",
              "      <td>AreaTotHA</td>\n",
              "      <td>3.405987e+06</td>\n",
              "      <td>2.834313e+06</td>\n",
              "      <td>3200000</td>\n",
              "      <td>6.074800e+06</td>\n",
              "      <td>342278.015100</td>\n",
              "      <td>0.0</td>\n",
              "      <td>1.585738e+07</td>\n",
              "      <td>3A</td>\n",
              "    </tr>\n",
              "  </tbody>\n",
              "</table>\n",
              "</div>\n",
              "      <button class=\"colab-df-convert\" onclick=\"convertToInteractive('df-24306afc-512d-4ad7-826d-48e21d11c9f1')\"\n",
              "              title=\"Convert this dataframe to an interactive table.\"\n",
              "              style=\"display:none;\">\n",
              "        \n",
              "  <svg xmlns=\"http://www.w3.org/2000/svg\" height=\"24px\"viewBox=\"0 0 24 24\"\n",
              "       width=\"24px\">\n",
              "    <path d=\"M0 0h24v24H0V0z\" fill=\"none\"/>\n",
              "    <path d=\"M18.56 5.44l.94 2.06.94-2.06 2.06-.94-2.06-.94-.94-2.06-.94 2.06-2.06.94zm-11 1L8.5 8.5l.94-2.06 2.06-.94-2.06-.94L8.5 2.5l-.94 2.06-2.06.94zm10 10l.94 2.06.94-2.06 2.06-.94-2.06-.94-.94-2.06-.94 2.06-2.06.94z\"/><path d=\"M17.41 7.96l-1.37-1.37c-.4-.4-.92-.59-1.43-.59-.52 0-1.04.2-1.43.59L10.3 9.45l-7.72 7.72c-.78.78-.78 2.05 0 2.83L4 21.41c.39.39.9.59 1.41.59.51 0 1.02-.2 1.41-.59l7.78-7.78 2.81-2.81c.8-.78.8-2.07 0-2.86zM5.41 20L4 18.59l7.72-7.72 1.47 1.35L5.41 20z\"/>\n",
              "  </svg>\n",
              "      </button>\n",
              "      \n",
              "  <style>\n",
              "    .colab-df-container {\n",
              "      display:flex;\n",
              "      flex-wrap:wrap;\n",
              "      gap: 12px;\n",
              "    }\n",
              "\n",
              "    .colab-df-convert {\n",
              "      background-color: #E8F0FE;\n",
              "      border: none;\n",
              "      border-radius: 50%;\n",
              "      cursor: pointer;\n",
              "      display: none;\n",
              "      fill: #1967D2;\n",
              "      height: 32px;\n",
              "      padding: 0 0 0 0;\n",
              "      width: 32px;\n",
              "    }\n",
              "\n",
              "    .colab-df-convert:hover {\n",
              "      background-color: #E2EBFA;\n",
              "      box-shadow: 0px 1px 2px rgba(60, 64, 67, 0.3), 0px 1px 3px 1px rgba(60, 64, 67, 0.15);\n",
              "      fill: #174EA6;\n",
              "    }\n",
              "\n",
              "    [theme=dark] .colab-df-convert {\n",
              "      background-color: #3B4455;\n",
              "      fill: #D2E3FC;\n",
              "    }\n",
              "\n",
              "    [theme=dark] .colab-df-convert:hover {\n",
              "      background-color: #434B5C;\n",
              "      box-shadow: 0px 1px 3px 1px rgba(0, 0, 0, 0.15);\n",
              "      filter: drop-shadow(0px 1px 2px rgba(0, 0, 0, 0.3));\n",
              "      fill: #FFFFFF;\n",
              "    }\n",
              "  </style>\n",
              "\n",
              "      <script>\n",
              "        const buttonEl =\n",
              "          document.querySelector('#df-24306afc-512d-4ad7-826d-48e21d11c9f1 button.colab-df-convert');\n",
              "        buttonEl.style.display =\n",
              "          google.colab.kernel.accessAllowed ? 'block' : 'none';\n",
              "\n",
              "        async function convertToInteractive(key) {\n",
              "          const element = document.querySelector('#df-24306afc-512d-4ad7-826d-48e21d11c9f1');\n",
              "          const dataTable =\n",
              "            await google.colab.kernel.invokeFunction('convertToInteractive',\n",
              "                                                     [key], {});\n",
              "          if (!dataTable) return;\n",
              "\n",
              "          const docLinkHtml = 'Like what you see? Visit the ' +\n",
              "            '<a target=\"_blank\" href=https://colab.research.google.com/notebooks/data_table.ipynb>data table notebook</a>'\n",
              "            + ' to learn more about interactive tables.';\n",
              "          element.innerHTML = '';\n",
              "          dataTable['output_type'] = 'display_data';\n",
              "          await google.colab.output.renderOutput(dataTable, element);\n",
              "          const docLink = document.createElement('div');\n",
              "          docLink.innerHTML = docLinkHtml;\n",
              "          element.appendChild(docLink);\n",
              "        }\n",
              "      </script>\n",
              "    </div>\n",
              "  </div>\n",
              "  "
            ]
          },
          "metadata": {},
          "execution_count": 15
        }
      ]
    },
    {
      "cell_type": "code",
      "source": [
        "import sklearn.utils\n",
        "#used to shuffle data"
      ],
      "metadata": {
        "id": "st36K_0OYus5"
      },
      "execution_count": null,
      "outputs": []
    },
    {
      "cell_type": "code",
      "source": [
        "data_df = sklearn.utils.shuffle(data_df) #shuffle the datas so 2a and 3a are randomly missed\n"
      ],
      "metadata": {
        "id": "4QYOIHLFY4Y8"
      },
      "execution_count": null,
      "outputs": []
    },
    {
      "cell_type": "code",
      "source": [
        "data_df = data_df.reset_index(drop=True) #reset the table so it start from 0, 1, 2, 3..., instead of random nos\n",
        "data_df.head(3)\n"
      ],
      "metadata": {
        "colab": {
          "base_uri": "https://localhost:8080/",
          "height": 205
        },
        "id": "Pa_sZAxGY7XH",
        "outputId": "d737093e-61ee-4825-9e46-6df9ea2662f4"
      },
      "execution_count": null,
      "outputs": [
        {
          "output_type": "execute_result",
          "data": {
            "text/plain": [
              "      country  year  country_code        record     crop_land   grazing_land  \\\n",
              "0        Iraq  2016           103  EFProdTotGHA  4.605966e+06  626123.288600   \n",
              "1  Tajikistan  2016           208  EFProdPerCap  2.829950e-01       0.128678   \n",
              "2   Singapore  1975           200  EFConsPerCap  3.892345e-01       0.097126   \n",
              "\n",
              "   forest_land  fishing_ground  built_up_land        carbon         total  \\\n",
              "0  86606.15132    46690.871960   1.046806e+06  4.924412e+07  5.565631e+07   \n",
              "1  0.003938652        0.000200   9.446197e-02  2.141098e-01  7.243837e-01   \n",
              "2  0.362438654        0.280494   1.397892e-02  4.795226e-01  1.622795e+00   \n",
              "\n",
              "  QScore  \n",
              "0     2A  \n",
              "1     2A  \n",
              "2     3A  "
            ],
            "text/html": [
              "\n",
              "  <div id=\"df-d50f3df7-76c8-4e47-8bf6-b587a9032e1e\">\n",
              "    <div class=\"colab-df-container\">\n",
              "      <div>\n",
              "<style scoped>\n",
              "    .dataframe tbody tr th:only-of-type {\n",
              "        vertical-align: middle;\n",
              "    }\n",
              "\n",
              "    .dataframe tbody tr th {\n",
              "        vertical-align: top;\n",
              "    }\n",
              "\n",
              "    .dataframe thead th {\n",
              "        text-align: right;\n",
              "    }\n",
              "</style>\n",
              "<table border=\"1\" class=\"dataframe\">\n",
              "  <thead>\n",
              "    <tr style=\"text-align: right;\">\n",
              "      <th></th>\n",
              "      <th>country</th>\n",
              "      <th>year</th>\n",
              "      <th>country_code</th>\n",
              "      <th>record</th>\n",
              "      <th>crop_land</th>\n",
              "      <th>grazing_land</th>\n",
              "      <th>forest_land</th>\n",
              "      <th>fishing_ground</th>\n",
              "      <th>built_up_land</th>\n",
              "      <th>carbon</th>\n",
              "      <th>total</th>\n",
              "      <th>QScore</th>\n",
              "    </tr>\n",
              "  </thead>\n",
              "  <tbody>\n",
              "    <tr>\n",
              "      <th>0</th>\n",
              "      <td>Iraq</td>\n",
              "      <td>2016</td>\n",
              "      <td>103</td>\n",
              "      <td>EFProdTotGHA</td>\n",
              "      <td>4.605966e+06</td>\n",
              "      <td>626123.288600</td>\n",
              "      <td>86606.15132</td>\n",
              "      <td>46690.871960</td>\n",
              "      <td>1.046806e+06</td>\n",
              "      <td>4.924412e+07</td>\n",
              "      <td>5.565631e+07</td>\n",
              "      <td>2A</td>\n",
              "    </tr>\n",
              "    <tr>\n",
              "      <th>1</th>\n",
              "      <td>Tajikistan</td>\n",
              "      <td>2016</td>\n",
              "      <td>208</td>\n",
              "      <td>EFProdPerCap</td>\n",
              "      <td>2.829950e-01</td>\n",
              "      <td>0.128678</td>\n",
              "      <td>0.003938652</td>\n",
              "      <td>0.000200</td>\n",
              "      <td>9.446197e-02</td>\n",
              "      <td>2.141098e-01</td>\n",
              "      <td>7.243837e-01</td>\n",
              "      <td>2A</td>\n",
              "    </tr>\n",
              "    <tr>\n",
              "      <th>2</th>\n",
              "      <td>Singapore</td>\n",
              "      <td>1975</td>\n",
              "      <td>200</td>\n",
              "      <td>EFConsPerCap</td>\n",
              "      <td>3.892345e-01</td>\n",
              "      <td>0.097126</td>\n",
              "      <td>0.362438654</td>\n",
              "      <td>0.280494</td>\n",
              "      <td>1.397892e-02</td>\n",
              "      <td>4.795226e-01</td>\n",
              "      <td>1.622795e+00</td>\n",
              "      <td>3A</td>\n",
              "    </tr>\n",
              "  </tbody>\n",
              "</table>\n",
              "</div>\n",
              "      <button class=\"colab-df-convert\" onclick=\"convertToInteractive('df-d50f3df7-76c8-4e47-8bf6-b587a9032e1e')\"\n",
              "              title=\"Convert this dataframe to an interactive table.\"\n",
              "              style=\"display:none;\">\n",
              "        \n",
              "  <svg xmlns=\"http://www.w3.org/2000/svg\" height=\"24px\"viewBox=\"0 0 24 24\"\n",
              "       width=\"24px\">\n",
              "    <path d=\"M0 0h24v24H0V0z\" fill=\"none\"/>\n",
              "    <path d=\"M18.56 5.44l.94 2.06.94-2.06 2.06-.94-2.06-.94-.94-2.06-.94 2.06-2.06.94zm-11 1L8.5 8.5l.94-2.06 2.06-.94-2.06-.94L8.5 2.5l-.94 2.06-2.06.94zm10 10l.94 2.06.94-2.06 2.06-.94-2.06-.94-.94-2.06-.94 2.06-2.06.94z\"/><path d=\"M17.41 7.96l-1.37-1.37c-.4-.4-.92-.59-1.43-.59-.52 0-1.04.2-1.43.59L10.3 9.45l-7.72 7.72c-.78.78-.78 2.05 0 2.83L4 21.41c.39.39.9.59 1.41.59.51 0 1.02-.2 1.41-.59l7.78-7.78 2.81-2.81c.8-.78.8-2.07 0-2.86zM5.41 20L4 18.59l7.72-7.72 1.47 1.35L5.41 20z\"/>\n",
              "  </svg>\n",
              "      </button>\n",
              "      \n",
              "  <style>\n",
              "    .colab-df-container {\n",
              "      display:flex;\n",
              "      flex-wrap:wrap;\n",
              "      gap: 12px;\n",
              "    }\n",
              "\n",
              "    .colab-df-convert {\n",
              "      background-color: #E8F0FE;\n",
              "      border: none;\n",
              "      border-radius: 50%;\n",
              "      cursor: pointer;\n",
              "      display: none;\n",
              "      fill: #1967D2;\n",
              "      height: 32px;\n",
              "      padding: 0 0 0 0;\n",
              "      width: 32px;\n",
              "    }\n",
              "\n",
              "    .colab-df-convert:hover {\n",
              "      background-color: #E2EBFA;\n",
              "      box-shadow: 0px 1px 2px rgba(60, 64, 67, 0.3), 0px 1px 3px 1px rgba(60, 64, 67, 0.15);\n",
              "      fill: #174EA6;\n",
              "    }\n",
              "\n",
              "    [theme=dark] .colab-df-convert {\n",
              "      background-color: #3B4455;\n",
              "      fill: #D2E3FC;\n",
              "    }\n",
              "\n",
              "    [theme=dark] .colab-df-convert:hover {\n",
              "      background-color: #434B5C;\n",
              "      box-shadow: 0px 1px 3px 1px rgba(0, 0, 0, 0.15);\n",
              "      filter: drop-shadow(0px 1px 2px rgba(0, 0, 0, 0.3));\n",
              "      fill: #FFFFFF;\n",
              "    }\n",
              "  </style>\n",
              "\n",
              "      <script>\n",
              "        const buttonEl =\n",
              "          document.querySelector('#df-d50f3df7-76c8-4e47-8bf6-b587a9032e1e button.colab-df-convert');\n",
              "        buttonEl.style.display =\n",
              "          google.colab.kernel.accessAllowed ? 'block' : 'none';\n",
              "\n",
              "        async function convertToInteractive(key) {\n",
              "          const element = document.querySelector('#df-d50f3df7-76c8-4e47-8bf6-b587a9032e1e');\n",
              "          const dataTable =\n",
              "            await google.colab.kernel.invokeFunction('convertToInteractive',\n",
              "                                                     [key], {});\n",
              "          if (!dataTable) return;\n",
              "\n",
              "          const docLinkHtml = 'Like what you see? Visit the ' +\n",
              "            '<a target=\"_blank\" href=https://colab.research.google.com/notebooks/data_table.ipynb>data table notebook</a>'\n",
              "            + ' to learn more about interactive tables.';\n",
              "          element.innerHTML = '';\n",
              "          dataTable['output_type'] = 'display_data';\n",
              "          await google.colab.output.renderOutput(dataTable, element);\n",
              "          const docLink = document.createElement('div');\n",
              "          docLink.innerHTML = docLinkHtml;\n",
              "          element.appendChild(docLink);\n",
              "        }\n",
              "      </script>\n",
              "    </div>\n",
              "  </div>\n",
              "  "
            ]
          },
          "metadata": {},
          "execution_count": 18
        }
      ]
    },
    {
      "cell_type": "code",
      "source": [
        "data_df.shape\n",
        "#the size of our data Has been reduced due to undersampling of 3A"
      ],
      "metadata": {
        "colab": {
          "base_uri": "https://localhost:8080/"
        },
        "id": "YjgahSTEY-FX",
        "outputId": "b62245c4-48c1-4179-829a-ac06da31ba8f"
      },
      "execution_count": null,
      "outputs": [
        {
          "output_type": "execute_result",
          "data": {
            "text/plain": [
              "(590, 12)"
            ]
          },
          "metadata": {},
          "execution_count": 19
        }
      ]
    },
    {
      "cell_type": "code",
      "source": [
        "data_df.QScore.value_counts()"
      ],
      "metadata": {
        "colab": {
          "base_uri": "https://localhost:8080/"
        },
        "id": "CqSM69YbZAD7",
        "outputId": "b64c69a3-cb47-4882-d0ef-bd9182645045"
      },
      "execution_count": null,
      "outputs": [
        {
          "output_type": "execute_result",
          "data": {
            "text/plain": [
              "3A    350\n",
              "2A    240\n",
              "Name: QScore, dtype: int64"
            ]
          },
          "metadata": {},
          "execution_count": 20
        }
      ]
    },
    {
      "cell_type": "code",
      "source": [
        "data_df = data_df.drop(columns=['country_code', 'country', 'year']) #these columns are not needed for our machine learning \n"
      ],
      "metadata": {
        "id": "ftVmzd6haWa8"
      },
      "execution_count": null,
      "outputs": []
    },
    {
      "cell_type": "code",
      "source": [
        "features= data_df.drop(columns='QScore') # qscore was drop to make it our target\n",
        "target = data_df['QScore']"
      ],
      "metadata": {
        "id": "Yvbx0EsyaeWD"
      },
      "execution_count": null,
      "outputs": []
    },
    {
      "cell_type": "markdown",
      "source": [
        "#split the data into training and testing sets"
      ],
      "metadata": {
        "id": "2ZgpTuVIa2au"
      }
    },
    {
      "cell_type": "code",
      "source": [
        "from sklearn.model_selection import train_test_split"
      ],
      "metadata": {
        "id": "FP3TIDsObF0k"
      },
      "execution_count": null,
      "outputs": []
    },
    {
      "cell_type": "code",
      "source": [
        "x_train, x_test, y_train, y_test = train_test_split(features, target, test_size=0.3, random_state=0)"
      ],
      "metadata": {
        "id": "hLRulBn4aySH"
      },
      "execution_count": null,
      "outputs": []
    },
    {
      "cell_type": "code",
      "source": [
        "y_train.value_counts()"
      ],
      "metadata": {
        "colab": {
          "base_uri": "https://localhost:8080/"
        },
        "id": "hzdSaOtmbM4r",
        "outputId": "23005086-f836-44f2-d8a5-0a65c168055b"
      },
      "execution_count": null,
      "outputs": [
        {
          "output_type": "execute_result",
          "data": {
            "text/plain": [
              "3A    244\n",
              "2A    169\n",
              "Name: QScore, dtype: int64"
            ]
          },
          "metadata": {},
          "execution_count": 27
        }
      ]
    },
    {
      "cell_type": "markdown",
      "source": [
        "#There is still an imbalance in the class distribution. For this, we use SMOTE only on the training data to handle this.\n",
        "\n"
      ],
      "metadata": {
        "id": "Tp3jfG7obfjR"
      }
    },
    {
      "cell_type": "markdown",
      "source": [
        "\n",
        "#encode categorical variable to numerical variables\n",
        "Label Encoding : preprocess/ encode categorical data in numbers(numerical datas) as categorical datas cannot be modelled as the machine learning algorithm only understands numbers"
      ],
      "metadata": {
        "id": "Vw9FKJYrbjG7"
      }
    },
    {
      "cell_type": "code",
      "source": [
        "from sklearn.preprocessing import LabelEncoder"
      ],
      "metadata": {
        "id": "Vn9CVKjoblNk"
      },
      "execution_count": null,
      "outputs": []
    },
    {
      "cell_type": "code",
      "source": [
        "encoder = LabelEncoder()\n",
        "x_train.record = encoder.fit_transform(x_train.record)\n",
        "x_test.record = encoder.transform(x_test.record)"
      ],
      "metadata": {
        "id": "0tbRxI3Pbnxq"
      },
      "execution_count": null,
      "outputs": []
    },
    {
      "cell_type": "markdown",
      "source": [
        "#Balancing the data using SMOTE only on the training data to handle this."
      ],
      "metadata": {
        "id": "A_jVRcbPd8C_"
      }
    },
    {
      "cell_type": "code",
      "source": [
        "import imblearn\n",
        "from imblearn.over_sampling import SMOTE\n"
      ],
      "metadata": {
        "id": "6wkP_KBJbnaO"
      },
      "execution_count": null,
      "outputs": []
    },
    {
      "cell_type": "code",
      "source": [
        "smote = SMOTE(random_state=1)\n",
        "x_train_balanced, y_balanced = smote.fit_resample(x_train, y_train)"
      ],
      "metadata": {
        "id": "9Ut2iMbUcTlX"
      },
      "execution_count": null,
      "outputs": []
    },
    {
      "cell_type": "markdown",
      "source": [
        "Scaling is done to make data that maybe far from each other closer to each other"
      ],
      "metadata": {
        "id": "8yWtHaNMeUsR"
      }
    },
    {
      "cell_type": "markdown",
      "source": [
        "minmax scaler transform datas by scaling each of them to a given range"
      ],
      "metadata": {
        "id": "FW2wQyHBfoG8"
      }
    },
    {
      "cell_type": "code",
      "source": [
        "from sklearn.preprocessing import MinMaxScaler\n",
        "scaler = MinMaxScaler()"
      ],
      "metadata": {
        "id": "oIB7nZkSc6Nb"
      },
      "execution_count": null,
      "outputs": []
    },
    {
      "cell_type": "code",
      "source": [
        "normalised_train_df = scaler.fit_transform(x_train_balanced.drop(columns=['record']))\n",
        "normalised_train_df = pd.DataFrame(normalised_train_df, columns=x_train_balanced.drop(columns=['record']).columns)\n",
        "normalised_train_df['record'] = x_train_balanced['record']"
      ],
      "metadata": {
        "id": "dgfOr1P6dNBz"
      },
      "execution_count": null,
      "outputs": []
    },
    {
      "cell_type": "code",
      "source": [
        "x_test = x_test.reset_index(drop=True)\n",
        "normalised_test_df = scaler.transform(x_test.drop(columns=['record']))\n",
        "normalised_test_df = pd.DataFrame(normalised_test_df, columns=x_test.drop(columns=['record']).columns)\n",
        "normalised_test_df['record'] = x_test['record']"
      ],
      "metadata": {
        "id": "5YroI7j_gFU-"
      },
      "execution_count": null,
      "outputs": []
    },
    {
      "cell_type": "markdown",
      "source": [
        "#Logistic Regression\n"
      ],
      "metadata": {
        "id": "OEDMLbgighnP"
      }
    },
    {
      "cell_type": "code",
      "source": [
        "from sklearn.linear_model import LogisticRegression\n"
      ],
      "metadata": {
        "id": "3Vt3Qqdrgnmc"
      },
      "execution_count": null,
      "outputs": []
    },
    {
      "cell_type": "code",
      "source": [
        "log_reg = LogisticRegression()\n",
        "log_reg.fit(normalised_train_df, y_balanced)\n"
      ],
      "metadata": {
        "colab": {
          "base_uri": "https://localhost:8080/"
        },
        "id": "Cg6r-gXngdYh",
        "outputId": "f7d365ab-b554-4fc1-a7f5-e02e135c3690"
      },
      "execution_count": null,
      "outputs": [
        {
          "output_type": "execute_result",
          "data": {
            "text/plain": [
              "LogisticRegression()"
            ]
          },
          "metadata": {},
          "execution_count": 35
        }
      ]
    },
    {
      "cell_type": "code",
      "source": [
        "\n",
        "LogisticRegression(C=1.0, class_weight=None, dual=False, fit_intercept=True,\n",
        "                   intercept_scaling=1, l1_ratio=None, max_iter=100,\n",
        "                   multi_class='auto', n_jobs=None, penalty='l2',\n",
        "                   random_state=None, solver='lbfgs', tol=0.0001, verbose=0,\n",
        "                   warm_start=False)"
      ],
      "metadata": {
        "colab": {
          "base_uri": "https://localhost:8080/"
        },
        "id": "DfPL1im6gwSe",
        "outputId": "3aaccf56-27b4-4c70-853f-4eb9bcd82e0d"
      },
      "execution_count": null,
      "outputs": [
        {
          "output_type": "execute_result",
          "data": {
            "text/plain": [
              "LogisticRegression()"
            ]
          },
          "metadata": {},
          "execution_count": 36
        }
      ]
    }
  ]
}